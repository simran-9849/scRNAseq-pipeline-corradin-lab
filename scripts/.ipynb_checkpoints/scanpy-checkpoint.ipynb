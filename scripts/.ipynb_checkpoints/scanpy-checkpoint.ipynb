{
 "cells": [
  {
   "cell_type": "code",
   "execution_count": 1,
   "id": "bdda5304-2984-4235-8aa1-aa9ace2c8844",
   "metadata": {},
   "outputs": [
    {
     "name": "stderr",
     "output_type": "stream",
     "text": [
      "Variable names are not unique. To make them unique, call `.var_names_make_unique`.\n",
      "Variable names are not unique. To make them unique, call `.var_names_make_unique`.\n",
      "Variable names are not unique. To make them unique, call `.var_names_make_unique`.\n",
      "Variable names are not unique. To make them unique, call `.var_names_make_unique`.\n",
      "Variable names are not unique. To make them unique, call `.var_names_make_unique`.\n",
      "Variable names are not unique. To make them unique, call `.var_names_make_unique`.\n",
      "Observation names are not unique. To make them unique, call `.obs_names_make_unique`.\n"
     ]
    },
    {
     "name": "stdout",
     "output_type": "stream",
     "text": [
      "S2    1668810\n",
      "S1    1078741\n",
      "Name: sample, dtype: int64\n"
     ]
    },
    {
     "data": {
      "text/plain": [
       "AnnData object with n_obs × n_vars = 2747551 × 38606\n",
       "    obs: 'sample'"
      ]
     },
     "execution_count": 1,
     "metadata": {},
     "output_type": "execute_result"
    }
   ],
   "source": [
    "import scanpy as sc\n",
    "from pathlib import Path\n",
    "import anndata\n",
    "\n",
    "\n",
    "data_dir = Path(\"/lab/corradin_data/FOR_SIMRAN/scRNA_seq/Zia_scData/\")\n",
    "samples = {\n",
    "    \"S1\": \"S01.h5\",\n",
    "    \"S2\": \"S02.h5\",\n",
    "}\n",
    "\n",
    "adatas = {}\n",
    "\n",
    "for sample_id, filename in samples.items():\n",
    "    path = data_dir / filename  \n",
    "    sample_adata = sc.read_10x_h5(str(path))  \n",
    "    sample_adata.var_names_make_unique()  \n",
    "    sample_adata.obs[\"sample\"] = sample_id  \n",
    "    adatas[sample_id] = sample_adata\n",
    "\n",
    "adata = anndata.concat(adatas, label=\"sample\")  \n",
    "adata.obs_names_make_unique()\n",
    "\n",
    "print(adata.obs[\"sample\"].value_counts())\n",
    "adata\n"
   ]
  },
  {
   "cell_type": "code",
   "execution_count": 2,
   "id": "20173eda-81ab-4b6f-9c7d-005e7db960f6",
   "metadata": {},
   "outputs": [],
   "source": [
    "# mitochondrial genes, \"MT-\" for human, \"Mt-\" for mouse\n",
    "adata.var[\"mt\"] = adata.var_names.str.startswith(\"MT-\")\n",
    "# ribosomal genes\n",
    "adata.var[\"ribo\"] = adata.var_names.str.startswith((\"RPS\", \"RPL\"))\n",
    "# hemoglobin genes\n",
    "adata.var[\"hb\"] = adata.var_names.str.contains(\"^HB[^(P)]\")"
   ]
  },
  {
   "cell_type": "code",
   "execution_count": null,
   "id": "cb069436-778d-4e65-af26-f0c66ca67575",
   "metadata": {},
   "outputs": [],
   "source": [
    "sc.pp.calculate_qc_metrics(\n",
    "    adata, qc_vars=[\"mt\", \"ribo\", \"hb\"], inplace=True)"
   ]
  },
  {
   "cell_type": "code",
   "execution_count": 4,
   "id": "e11abb70-27d4-47be-bfc6-4caf1f891d5e",
   "metadata": {},
   "outputs": [
    {
     "name": "stdout",
     "output_type": "stream",
     "text": [
      "Help on function calculate_qc_metrics in module scanpy.preprocessing._qc:\n",
      "\n",
      "calculate_qc_metrics(adata, expr_type='counts', var_type='genes', qc_vars=(), percent_top=(50, 100, 200, 500), inplace=False)\n",
      "    Calculate quality control metrics.\n",
      "    \n",
      "    Calculates a number of qc metrics for an AnnData object, see section\n",
      "    `Returns` for specifics. Largely based on `calculateQCMetrics` from scater\n",
      "    [McCarthy17]_. Currently is most efficient on a sparse CSR or dense matrix.\n",
      "    \n",
      "    Parameters\n",
      "    ----------\n",
      "    adata : :class:`~anndata.AnnData`\n",
      "        Annotated data matrix.\n",
      "    expr_type : `str`, optional (default: `\"counts\"`)\n",
      "        Name of kind of values in X.\n",
      "    var_type : `str`, optional (default: `\"genes\"`)\n",
      "        The kind of thing the variables are.\n",
      "    qc_vars : `Container`, optional (default: `()`)\n",
      "        Keys for boolean columns of `.var` which identify variables you could \n",
      "        want to control for (e.g. \"ERCC\" or \"mito\").\n",
      "    percent_top : `Container[int]`, optional (default: `(50, 100, 200, 500)`)\n",
      "        Which proportions of top genes to cover. If empty or `None` don't\n",
      "        calculate. Values are considered 1-indexed, `percent_top=[50]` finds\n",
      "        cumulative proportion to the 50th most expressed gene.\n",
      "    inplace : bool, optional (default: `False`)\n",
      "        Whether to place calculated metrics in `.obs` and `.var`\n",
      "    \n",
      "    Returns\n",
      "    -------\n",
      "    Union[NoneType, Tuple[pd.DataFrame, pd.DataFrame]]\n",
      "        Depending on `inplace` returns calculated metrics (`pd.DataFrame`) or\n",
      "        updates `adata`'s `obs` and `var`.\n",
      "    \n",
      "        Observation level metrics include:\n",
      "    \n",
      "        * `total_{var_type}_by_{expr_type}`\n",
      "            E.g. \"total_genes_by_counts\". Number of genes with positive counts\n",
      "            in a cell.\n",
      "        * `total_{expr_type}`\n",
      "            E.g. \"total_counts\". Total number of counts for a cell.\n",
      "        * `pct_{expr_type}_in_top_{n}_{var_type}` - for `n` in `percent_top`\n",
      "            E.g. \"pct_counts_in_top_50_genes\". Cumulative percentage of counts\n",
      "            for 50 most expressed genes in a cell.\n",
      "        * `total_{expr_type}_{qc_var}` - for `qc_var` in `qc_vars`\n",
      "            E.g. \"total_counts_mito\". Total number of counts for variabes in\n",
      "            `qc_vars`.\n",
      "        * `pct_{expr_type}_{qc_var}` - for `qc_var` in `qc_vars`\n",
      "            E.g. \"pct_counts_mito\". Proportion of total counts for a cell which\n",
      "            are mitochondrial.\n",
      "    \n",
      "        Variable level metrics include:\n",
      "    \n",
      "        * `total_{expr_type}`\n",
      "            E.g. \"total_counts\". Sum of counts for a gene.\n",
      "        * `mean_{expr_type}`\n",
      "            E.g. \"mean counts\". Mean expression over all cells.\n",
      "        * `n_cells_by_{expr_type}`\n",
      "            E.g. \"n_cells_by_counts\". Number of cells this expression is\n",
      "            measured in.\n",
      "        * `pct_dropout_by_{expr_type}`\n",
      "            E.g. \"pct_dropout_by_counts\". Percentage of cells this feature does\n",
      "            not appear in.\n",
      "    \n",
      "    \n",
      "    Example\n",
      "    -------\n",
      "    Calculate qc metrics for visualization.\n",
      "    \n",
      "    >>> adata = sc.datasets.pbmc3k()\n",
      "    >>> sc.pp.calculate_qc_metrics(adata, inplace=True)\n",
      "    >>> sns.jointplot(adata.obs, \"log1p_total_counts\", \"log1p_n_genes_by_counts\", kind=\"hex\")\n",
      "\n"
     ]
    }
   ],
   "source": [
    "help(sc.pp.calculate_qc_metrics)"
   ]
  }
 ],
 "metadata": {
  "kernelspec": {
   "display_name": "Python 3",
   "language": "python",
   "name": "python3"
  },
  "language_info": {
   "codemirror_mode": {
    "name": "ipython",
    "version": 3
   },
   "file_extension": ".py",
   "mimetype": "text/x-python",
   "name": "python",
   "nbconvert_exporter": "python",
   "pygments_lexer": "ipython3",
   "version": "3.6.9"
  }
 },
 "nbformat": 4,
 "nbformat_minor": 5
}
